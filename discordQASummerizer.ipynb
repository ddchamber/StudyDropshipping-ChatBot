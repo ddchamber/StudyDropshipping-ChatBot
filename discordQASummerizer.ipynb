{
 "cells": [
  {
   "cell_type": "markdown",
   "metadata": {},
   "source": [
    "## Study Dropshipping Discord QA - Capture and Categorize\n",
    "### Import Dependencies"
   ]
  },
  {
   "cell_type": "code",
   "execution_count": 121,
   "metadata": {},
   "outputs": [],
   "source": [
    "import os\n",
    "import boto3\n",
    "from dotenv import load_dotenv\n",
    "\n",
    "from langchain.agents import AgentExecutor, create_structured_chat_agent\n",
    "from langchain_community.chat_models import BedrockChat\n",
    "from langchain_core.messages import AIMessage, HumanMessage\n",
    "from langchain import hub\n",
    "from langchain.tools import tool\n",
    "from langchain.agents import initialize_agent\n",
    "import discord\n",
    "import asyncio\n",
    "import nest_asyncio\n",
    "\n",
    "import json"
   ]
  },
  {
   "cell_type": "code",
   "execution_count": 122,
   "metadata": {},
   "outputs": [],
   "source": [
    "# Create the AWS client for the Bedrock runtime with boto3\n",
    "aws_client = boto3.client(service_name=\"bedrock-runtime\")\n",
    "\n",
    "# Access the environment variables\n",
    "load_dotenv()\n",
    "aws_access_key = os.getenv(\"AWS_ACCESS_KEY_ID\")\n",
    "aws_secret_key = os.getenv(\"AWS_SECRET_ACCESS_KEY\")\n",
    "aws_region = os.getenv(\"AWS_DEFAULT_REGION\")\n",
    "discord_token = os.getenv(\"DISCORD_TOKEN\")"
   ]
  },
  {
   "cell_type": "markdown",
   "metadata": {},
   "source": [
    "### Create Tool for LLM to use to Pull from Discord Server"
   ]
  },
  {
   "cell_type": "code",
   "execution_count": 191,
   "metadata": {},
   "outputs": [],
   "source": [
    "import discord\n",
    "import asyncio\n",
    "import nest_asyncio\n",
    "import os\n",
    "from langchain.tools import tool\n",
    "\n",
    "nest_asyncio.apply()\n",
    "\n",
    "@tool\n",
    "def get_discord_messages(channel_name: str = 'general') -> str:\n",
    "    \"\"\"\n",
    "    Fetches all messages from a specified Discord channel using the Discord API.\n",
    "    Uses pagination to go back through entire message history.\n",
    "    Requires DISCORD_TOKEN in the environment.\n",
    "    \"\"\"\n",
    "    channel_name = channel_name.strip(\"'\\\"\")\n",
    "    discord_token = os.getenv(\"DISCORD_TOKEN\")\n",
    "    if not discord_token:\n",
    "        return \"DISCORD_TOKEN not found in environment.\"\n",
    "\n",
    "    GUILD_ID = 993395850418077867\n",
    "\n",
    "    class DiscordFetchClient(discord.Client):\n",
    "        def __init__(self, **kwargs):\n",
    "            super().__init__(**kwargs)\n",
    "            self.channel_name = channel_name\n",
    "            self.messages = []\n",
    "\n",
    "        async def on_ready(self):\n",
    "            print(f\"Bot logged in as {self.user}\")\n",
    "\n",
    "            print(\"🌐 Guilds this bot is in:\")\n",
    "            for guild in client.guilds:\n",
    "                print(f\"- {guild.name} (ID: {guild.id})\")\n",
    "\n",
    "            target_guild = discord.utils.get(self.guilds, id=GUILD_ID)\n",
    "            if not target_guild:\n",
    "                print(\"Target server not found.\")\n",
    "                await self.close()\n",
    "                return\n",
    "\n",
    "            channel = discord.utils.get(target_guild.text_channels, name=self.channel_name)\n",
    "            if not channel:\n",
    "                print(f\"Channel '{self.channel_name}' not found in server '{target_guild.name}'.\")\n",
    "                await self.close()\n",
    "                return\n",
    "\n",
    "            print(f\"Reading from #{channel.name} in server: {target_guild.name}\")\n",
    "            # ... continue reading messages as before ...\n",
    "\n",
    "\n",
    "            channel = discord.utils.get(self.get_all_channels(), name=self.channel_name)\n",
    "            if not channel:\n",
    "                self.messages = [f\"Channel '{self.channel_name}' not found.\"]\n",
    "                await self.close()\n",
    "                return\n",
    "\n",
    "            all_messages = []\n",
    "            last_message = None\n",
    "            total_fetched = 0\n",
    "\n",
    "            while True:\n",
    "                batch = [msg async for msg in channel.history(limit=100, before=last_message)]\n",
    "                if not batch:\n",
    "                    break\n",
    "                all_messages.extend(batch)\n",
    "                last_message = batch[-1]\n",
    "                total_fetched += len(batch)\n",
    "                print(f\"\\nFetched {total_fetched} messages so far...\")\n",
    "                await asyncio.sleep(1)\n",
    "\n",
    "            self.messages = [\n",
    "                f\"- {msg.author.display_name}: {msg.content.strip() if msg.content else '(no message)'}\"\n",
    "                for msg in reversed(all_messages)\n",
    "                if msg.content.strip()\n",
    "            ]\n",
    "            print(f\"Total fetched: {len(self.messages)}\")\n",
    "            await self.close()\n",
    "\n",
    "    intents = discord.Intents.default()\n",
    "    intents.message_content = True\n",
    "    client = DiscordFetchClient(intents=intents)\n",
    "\n",
    "    try:\n",
    "        loop = asyncio.get_event_loop()\n",
    "        loop.run_until_complete(client.start(discord_token))\n",
    "    except Exception as e:\n",
    "        return f\"Discord error: {str(e)}\"\n",
    "\n",
    "    return \"\\n\".join(client.messages) if client.messages else \"No messages found.\"\n"
   ]
  },
  {
   "cell_type": "code",
   "execution_count": 188,
   "metadata": {},
   "outputs": [],
   "source": [
    "# Make sure to add tools in an array for Bedrock to be able to use\n",
    "tools = [get_discord_messages]"
   ]
  },
  {
   "cell_type": "code",
   "execution_count": 192,
   "metadata": {},
   "outputs": [
    {
     "name": "stdout",
     "output_type": "stream",
     "text": [
      "Bot logged in as danDiscScraper#8517\n",
      "Target server not found.\n",
      "No messages found.\n"
     ]
    }
   ],
   "source": [
    "# Check if tool is pulling correct messages (first 200 characters)\n",
    "messages = get_discord_messages.invoke({\"channel_name\": \"general-chat\"})\n",
    "print(messages)"
   ]
  },
  {
   "cell_type": "markdown",
   "metadata": {},
   "source": [
    "### Connect to an LLM (Claude Haiku)"
   ]
  },
  {
   "cell_type": "code",
   "execution_count": 135,
   "metadata": {},
   "outputs": [
    {
     "name": "stderr",
     "output_type": "stream",
     "text": [
      "/Users/dan/calpoly/BusinessAnalytics/GSB570GENAI/gsb570env/lib/python3.10/site-packages/langsmith/client.py:272: LangSmithMissingAPIKeyWarning: API key must be provided when using hosted LangSmith API\n",
      "  warnings.warn(\n"
     ]
    }
   ],
   "source": [
    "# Select the Bedrock model\n",
    "model_id = \"anthropic.claude-3-haiku-20240307-v1:0\"\n",
    "\n",
    "# Define generation parameters\n",
    "model_kwargs =  { \n",
    "    \"max_tokens\": 2048, # maximum tokens to return\n",
    "    \"temperature\": 0.0, # creativity\n",
    "    \"top_k\": 250,       # restrict to top k tokens\n",
    "    \"top_p\": 0.9,       # only sample from set of tokens w/ probability ≤ 0.9\n",
    "    \"stop_sequences\": [\"\\n\\nHuman\"],\n",
    "}\n",
    "\n",
    "# Instantiate the ChatBedrock wrapper\n",
    "from langchain_aws import ChatBedrock\n",
    "llm = ChatBedrock(\n",
    "    client=aws_client,\n",
    "    model_id=model_id,\n",
    "    model_kwargs=model_kwargs,\n",
    ")\n",
    "\n",
    "# The hub provides sample templates for each agent type\n",
    "prompt = hub.pull(\"hwchase17/structured-chat-agent\") # this is a template pre-tuned for building a structured chat agent"
   ]
  },
  {
   "cell_type": "code",
   "execution_count": 193,
   "metadata": {},
   "outputs": [
    {
     "name": "stdout",
     "output_type": "stream",
     "text": [
      "Here are the identified Q/A threads from the provided messages:\n",
      "\n",
      "-----------------\n",
      "Q/A Thread:\n",
      "\n",
      "How do I choose a good product for Tiktok?\n",
      "Look for something visually catchy or surprising.\n",
      "I tried a product that solves a daily problem — that worked well.\n",
      "Would a phone stand work?\n",
      "Yes, if you market it correctly.\n",
      "\n",
      "-----------------\n",
      "Q/A Thread:\n",
      "\n",
      "What are some tips for growing a TikTok following?\n",
      "Post consistently and use relevant hashtags.\n",
      "Engage with your audience by responding to comments.\n",
      "Collaborate with other creators in your niche.\n",
      "\n",
      "-----------------\n",
      "Q/A Thread:\n",
      "\n",
      "How can I make my TikTok videos more engaging?\n",
      "Use trending sounds and effects.\n",
      "Incorporate user-generated content or challenges.\n",
      "Tell a story and be authentic.\n",
      "\n",
      "-----------------\n",
      "Q/A Thread:\n",
      "\n",
      "What are the best ways to monetize a TikTok account?\n",
      "Look into TikTok's Creator Fund and brand sponsorships.\n",
      "You can also sell branded merchandise or promote affiliate products.\n",
      "Consider offering exclusive content or experiences for subscribers.\n"
     ]
    }
   ],
   "source": [
    "# 1. Fetch Discord messages manually\n",
    "messages_text = messages[::-1]\n",
    "\n",
    "# 2. Prompt the LLM directly\n",
    "prompt_summary = f\"\"\"\n",
    "{messages_text}\n",
    "\n",
    "Your task is to identify and group together each full **question and its related conversation thread** from the messages in messages_text(i.e., all direct and follow-up messages \n",
    "that appear to be answers, clarifications, or responses to that question).\n",
    "\n",
    "Do not rewrite, summarize, or rephrase ANYTHING — your only goal is to **preserve the full wording** of each Q/A chain, grouped cleanly.\n",
    "\n",
    "Very Important:\n",
    "- Many questions are conversational.\n",
    "- **Follow-up questions like “Would a phone stand work?” are NOT new Q/A threads** — they are part of the original thread. Look for \n",
    "keywords and context that indicate a direct continuation of the previous topic.\n",
    "\n",
    "<Example>\n",
    "\n",
    "How do I choose a good product for Tiktok?\n",
    "Look for something visually catchy or surprising.\n",
    "I tried a product that solves a daily problem — that worked well.\n",
    "Would a phone stand work?\n",
    "Yes, if you market it correctly.\n",
    "\n",
    "Should be\n",
    "\n",
    "Q/A Thread:\n",
    "\n",
    "How do I choose a good product for Tiktok?\n",
    "Look for something visually catchy or surprising.\n",
    "I tried a product that solves a daily problem — that worked well.\n",
    "Would a phone stand work?\n",
    "Yes, if you market it correctly.\n",
    "</Example>\n",
    "\n",
    "- You should **ONLY start a new Q/A Thread** if the question begins a new topic (not a clarification, example, or direct follow-up). \n",
    "Consider if the new question directly references or builds upon the previous exchange.\n",
    "\n",
    "Format the output like this for each thread:\n",
    "\n",
    "-----------------\n",
    "Q/A Thread:\n",
    "\n",
    "[Original question message]\n",
    "[Direct response 1]\n",
    "[Follow-up response or clarification]\n",
    "[Continued discussion, if any]\n",
    "\n",
    "-----------------\n",
    "\n",
    "Keep each Q/A thread separated with the dashed lines. If a question does not receive a reply, you can discard the question.\n",
    "Do not guess or fill in answers. Your job is only to identify and group related messages. \n",
    "Remember it is OF MOST IMPORTANCE to put less importance on a new thread having a ?, as we see in the example, Would a phone stand work? \n",
    "is a follow up that should be included in the original questions thread.\n",
    "Instead put most of your focus on the context between messages.\n",
    "\"\"\"\n",
    "\n",
    "response = llm.invoke(prompt_summary)\n",
    "print(response.content)"
   ]
  },
  {
   "cell_type": "markdown",
   "metadata": {},
   "source": [
    "### Form into JSON structure"
   ]
  },
  {
   "cell_type": "code",
   "execution_count": 194,
   "metadata": {},
   "outputs": [],
   "source": [
    "# Use to split by Section\n",
    "import re\n",
    "\n",
    "# Split on the dashed separator\n",
    "thread_blocks = re.split(r\"-{5,}\", response.content)\n",
    "thread_blocks = [block.strip() for block in thread_blocks if block.strip()]"
   ]
  },
  {
   "cell_type": "code",
   "execution_count": 195,
   "metadata": {},
   "outputs": [
    {
     "data": {
      "text/plain": [
       "['Here are the identified Q/A threads from the provided messages:',\n",
       " 'Q/A Thread:\\n\\nHow do I choose a good product for Tiktok?\\nLook for something visually catchy or surprising.\\nI tried a product that solves a daily problem — that worked well.\\nWould a phone stand work?\\nYes, if you market it correctly.',\n",
       " 'Q/A Thread:\\n\\nWhat are some tips for growing a TikTok following?\\nPost consistently and use relevant hashtags.\\nEngage with your audience by responding to comments.\\nCollaborate with other creators in your niche.',\n",
       " 'Q/A Thread:\\n\\nHow can I make my TikTok videos more engaging?\\nUse trending sounds and effects.\\nIncorporate user-generated content or challenges.\\nTell a story and be authentic.',\n",
       " \"Q/A Thread:\\n\\nWhat are the best ways to monetize a TikTok account?\\nLook into TikTok's Creator Fund and brand sponsorships.\\nYou can also sell branded merchandise or promote affiliate products.\\nConsider offering exclusive content or experiences for subscribers.\"]"
      ]
     },
     "execution_count": 195,
     "metadata": {},
     "output_type": "execute_result"
    }
   ],
   "source": [
    "thread_blocks"
   ]
  },
  {
   "cell_type": "code",
   "execution_count": 196,
   "metadata": {},
   "outputs": [],
   "source": [
    "def build_structuring_prompt(thread_text, thread_id):\n",
    "    return f\"\"\"\n",
    "You are a dropshipping support assistant.\n",
    "\n",
    "Below is a Discord Q/A thread. Your job is to:\n",
    "1. Identify the main question.\n",
    "2. Preserve the full conversation as `full_thread`.\n",
    "3. Assign it to a category from this list:\n",
    "   - Product Research\n",
    "   - Website Customization\n",
    "   - Sourcing & Suppliers\n",
    "   - Shopify Setup / Apps\n",
    "   - Organic Advertising\n",
    "   - Paid Advertising\n",
    "   - Mindset / Motivation\n",
    "   - General Beginner Questions\n",
    "\n",
    "Output only a JSON object in this format:\n",
    "\n",
    "{{\n",
    "  \"id\": \"qa-thread-{thread_id:03d}\",\n",
    "  \"question\": \"...\",\n",
    "  \"full_thread_answer\": \"...\",\n",
    "  \"category\": \"...\"\n",
    "}}\n",
    "\n",
    "Here is the thread:\n",
    "--------------------\n",
    "{thread_text}\n",
    "--------------------\n",
    "\"\"\""
   ]
  },
  {
   "cell_type": "code",
   "execution_count": 197,
   "metadata": {},
   "outputs": [
    {
     "name": "stdout",
     "output_type": "stream",
     "text": [
      "Error parsing thread 1\n"
     ]
    },
    {
     "data": {
      "text/plain": [
       "[{'id': 'qa-thread-002',\n",
       "  'question': 'How do I choose a good product for Tiktok?',\n",
       "  'full_thread_answer': 'How do I choose a good product for Tiktok?\\nLook for something visually catchy or surprising.\\nI tried a product that solves a daily problem — that worked well.\\nWould a phone stand work?\\nYes, if you market it correctly.',\n",
       "  'category': 'Product Research'},\n",
       " {'id': 'qa-thread-003',\n",
       "  'question': 'What are some tips for growing a TikTok following?',\n",
       "  'full_thread_answer': 'Q/A Thread:\\n\\nWhat are some tips for growing a TikTok following?\\nPost consistently and use relevant hashtags.\\nEngage with your audience by responding to comments.\\nCollaborate with other creators in your niche.',\n",
       "  'category': 'Organic Advertising'},\n",
       " {'id': 'qa-thread-004',\n",
       "  'question': 'How can I make my TikTok videos more engaging?',\n",
       "  'full_thread_answer': 'Q: How can I make my TikTok videos more engaging?\\nA: Use trending sounds and effects.\\nIncorporate user-generated content or challenges.\\nTell a story and be authentic.',\n",
       "  'category': 'Organic Advertising'},\n",
       " {'id': 'qa-thread-005',\n",
       "  'question': 'What are the best ways to monetize a TikTok account?',\n",
       "  'full_thread_answer': \"Look into TikTok's Creator Fund and brand sponsorships. You can also sell branded merchandise or promote affiliate products. Consider offering exclusive content or experiences for subscribers.\",\n",
       "  'category': 'Organic Advertising'}]"
      ]
     },
     "execution_count": 197,
     "metadata": {},
     "output_type": "execute_result"
    }
   ],
   "source": [
    "structured_threads = []\n",
    "\n",
    "for i, thread in enumerate(thread_blocks):\n",
    "    prompt = build_structuring_prompt(thread, i + 1)\n",
    "    result = llm.invoke(prompt)\n",
    "    try:\n",
    "        qa = json.loads(result.content)\n",
    "        structured_threads.append(qa)\n",
    "    except json.JSONDecodeError:\n",
    "        print(f\"Error parsing thread {i+1}\")\n",
    "\n",
    "structured_threads"
   ]
  },
  {
   "cell_type": "markdown",
   "metadata": {},
   "source": [
    "### Time to Embed and place in Vector DataBase"
   ]
  },
  {
   "cell_type": "markdown",
   "metadata": {},
   "source": [
    "Store JSON in this form for embedding"
   ]
  },
  {
   "cell_type": "code",
   "execution_count": 163,
   "metadata": {},
   "outputs": [],
   "source": [
    "from langchain.docstore.document import Document\n",
    "\n",
    "docs = []\n",
    "\n",
    "for item in structured_threads: \n",
    "    docs.append(\n",
    "        Document(\n",
    "    page_content=f\"Q: {item['question']}\\n{item['full_thread_answer']}\",\n",
    "    metadata={\n",
    "        \"id\": item[\"id\"],\n",
    "        \"question\": item[\"question\"],\n",
    "        \"category\": item[\"category\"]\n",
    "    }\n",
    "        )\n",
    "    )"
   ]
  },
  {
   "cell_type": "markdown",
   "metadata": {},
   "source": [
    "Use Titan embedding using Bedrock"
   ]
  },
  {
   "cell_type": "code",
   "execution_count": 164,
   "metadata": {},
   "outputs": [],
   "source": [
    "from langchain_aws.embeddings import BedrockEmbeddings\n",
    "\n",
    "# This assumes boto3 client for Bedrock is already set up\n",
    "embedding_model = BedrockEmbeddings(\n",
    "    client=aws_client,  # your boto3 Bedrock runtime client\n",
    "    model_id=\"amazon.titan-embed-text-v1\"\n",
    ")"
   ]
  },
  {
   "cell_type": "markdown",
   "metadata": {},
   "source": [
    "Store in a vector db with an index file, and a pkl file with content"
   ]
  },
  {
   "cell_type": "code",
   "execution_count": 165,
   "metadata": {},
   "outputs": [],
   "source": [
    "from langchain.vectorstores import FAISS\n",
    "\n",
    "vectorstore = FAISS.from_documents(docs, embedding_model)\n",
    "vectorstore.save_local(\"qa_faiss_index_titan\")\n"
   ]
  },
  {
   "cell_type": "markdown",
   "metadata": {},
   "source": [
    "### When we want to use it..."
   ]
  },
  {
   "cell_type": "code",
   "execution_count": 166,
   "metadata": {},
   "outputs": [
    {
     "name": "stdout",
     "output_type": "stream",
     "text": [
      "Q: How long should I test a product before cutting it?\n",
      "How long should I test a product before cutting it?\n",
      "Look for something visually catchy or surprising.\n",
      "I tried a product that solves a daily problem — that worked well.\n",
      "Would a phone stand work?\n",
      "Yes, if you market it correctly.\n",
      "{'id': 'qa-thread-004', 'question': 'How long should I test a product before cutting it?', 'category': 'Product Research'}\n",
      "\n",
      "\n",
      "Q: I'm looking for help signing up for Shopify, I'm lost.\n",
      "What part are you lost on?\n",
      "I'm looking for help signing up for Shopify, I'm lost.\n",
      "At least 3-5 days, depending on your CPMs.\n",
      "{'id': 'qa-thread-003', 'question': \"I'm looking for help signing up for Shopify, I'm lost.\", 'category': 'Shopify Setup / Apps'}\n",
      "\n",
      "\n",
      "Q: If I'm on 10, should I quit?\n",
      "If I'm on 10, should I quit?\n",
      "No, that's too long. I did it for 6 days and it eventually worked.\n",
      "Thanks, that helps!\n",
      "{'id': 'qa-thread-006', 'question': \"If I'm on 10, should I quit?\", 'category': 'Mindset / Motivation'}\n",
      "\n",
      "\n"
     ]
    }
   ],
   "source": [
    "from langchain.vectorstores import FAISS\n",
    "\n",
    "vectorstore = FAISS.load_local(\n",
    "    \"qa_faiss_index_titan\", \n",
    "    embeddings=embedding_model,\n",
    "    allow_dangerous_deserialization=True  # bypass pickle warning)\n",
    ")\n",
    "\n",
    "results = vectorstore.similarity_search(\"I have a useful product, a mechanical dishwashing robot, but I do not know hoe to market it. What should I do, can you provide an examplke of a good campaign?\", k=3)\n",
    "for doc in results:\n",
    "    print(doc.page_content)\n",
    "    print(doc.metadata)\n",
    "    print(\"\\n\")"
   ]
  },
  {
   "cell_type": "markdown",
   "metadata": {},
   "source": [
    "### Feed to Claude"
   ]
  },
  {
   "cell_type": "code",
   "execution_count": 167,
   "metadata": {},
   "outputs": [],
   "source": [
    "conversation_history = []"
   ]
  },
  {
   "cell_type": "code",
   "execution_count": 168,
   "metadata": {},
   "outputs": [
    {
     "name": "stdout",
     "output_type": "stream",
     "text": [
      "Here is a step-by-step response to the user's question about marketing a mechanical dishwashing robot:\n",
      "\n",
      "Great question! Marketing a unique product like a mechanical dishwashing robot can be really exciting. Here's a framework you can use to build an effective campaign:\n",
      "\n",
      "First, focus on highlighting what makes this product special and different. With a dishwashing robot, you'll want to showcase the convenience, time-saving benefits, and \"wow\" factor in your ads. Create eye-catching videos that demonstrate the product in action and spark curiosity.\n",
      "\n",
      "Next, think about the specific pain points this solves for your target customers. Are busy families the main audience? Highlight how it frees up time for other activities. Or maybe it appeals to those who hate doing dishes - play up how it eliminates that chore.\n",
      "\n",
      "When it comes to advertising, I'd recommend starting with a mix of organic and paid strategies. On social media, share educational content that teaches people about the product and its use cases. Run targeted Facebook and Instagram ads to reach the right customers. You can also look into influencer partnerships to leverage their engaged audiences.\n",
      "\n",
      "The key is to test different messaging, creatives, and targeting to see what resonates best. Start small, analyze the results, and then scale up what's working. With a unique product like this, you have a great opportunity to stand out - just make sure your marketing captures that wow factor.\n",
      "\n",
      "Let me know if you have any other questions! I'm happy to provide more details on building an effective campaign.\n"
     ]
    }
   ],
   "source": [
    "user_question = \"I have a useful product, a mechanical dishwashing robot, but I do not know hoe to market it. What should I do, can you provide an examplke of a good campaign?\"\n",
    "\n",
    "formatted_history = ''\n",
    "for turn in conversation_history:\n",
    "    formatted_history += f\"\\nUser: {turn['question']}\\nAssistant: {turn['answer']}\\n\"\n",
    "\n",
    "retrieved_context = \"\\n\\n---\\n\\n\".join([doc.page_content for doc in results])\n",
    "\n",
    "rag_prompt = f\"\"\"\n",
    "<Role>\n",
    "You are an expert in helping complete beginners become successful dropshippers. You specialize in: Product Research, Website Overview and Customization, Sourcing and Suppliers, TRUST Dropshipping Group, Mindset, Organic Advertising, Paid Advertising, Shopify Apps\n",
    "You have learned from an 8-hour course by Mike and Dom, as well as the Study Dropshipping Discord community, TRUST, FAQ threads. You speak clearly, simply, and with enthusiasm, always aiming to help users understand and succeed. You are capable of: Guiding users to their goals,\n",
    " explaining concepts without skipping key details, diving deeper if asked, providing examples when relevant. \n",
    "</Role>\n",
    "\n",
    "<Task Flow>\n",
    "When a user asks a question:\n",
    "Retrieve relevant information from the internal knowledge base (course material or Discord).\n",
    "\n",
    "Answer the user’s question step-by-step, as clearly as possible. Include only the response section when you print to the customer:\n",
    "\n",
    "<information> (facts pulled from course/FAQ) </information>  \n",
    "<goal> (what the user is trying to accomplish) </goal>  \n",
    "<difficulty> (how hard or easy this task is) </difficulty> \n",
    "<response> (what the user will see based on the steps above, make depth based on difficulty)</response>\n",
    "If the information is not in the course/FAQ, say:\n",
    " \"I can’t find any specifics on that question from the course.” Then send the message thread to a new channel called, “unsolved questions.”\n",
    "</Task Flow>\n",
    "\n",
    "<Business Specifics>\n",
    "Your ultimate goal is to help users move forward in their dropshipping journey—ideally to the point where they: Sign up for a Shopify trial using the company’s affiliate link, and then start a paid subscription. By making the process simple, clear, and motivating, you increase the chance that users will become successful dropshippers and long-term subscribers. \n",
    "</Business Specifics>\n",
    "\n",
    "<Examples>\n",
    "Q: How do I choose a winning product?\n",
    "A:\n",
    " <information>\n",
    " Winning products usually share a few characteristics:\n",
    "They're easy to make eye-catching videos for (think: “TikTok-worthy”).\n",
    "They spark emotional reactions—especially controversy or surprise.\n",
    "They solve a problem or make life easier.\n",
    " </information>\n",
    "<goal> To identify a product that will perform well in ads and convert customers. </goal>\n",
    " <difficulty> Medium – Requires practice and testing, but tools and examples help. </difficulty>\n",
    "<response> \n",
    "\n",
    "Great question — picking the right product is one of the biggest steps in getting traction with dropshipping.\n",
    "Start by looking for products that catch attention fast. Ask yourself: Would this stop me from scrolling on TikTok or Instagram? Products that are visually interesting, solve a real problem, or stir some emotion (like surprise or controversy) tend to perform the best in ads.\n",
    "Next, think about how unique the product feels. If it’s already everywhere, it’ll be tough to stand out. And finally, check the numbers — look for something you can sell for 3x what it costs you to source.\n",
    "It might take a few tries to land on the right one, but with research tools and inspiration from what’s already working for others, you’ll be able to spot the patterns.\n",
    "Want help brainstorming or validating a product you’re thinking about?\n",
    "\n",
    "</response>\n",
    "\n",
    "</Examples>\n",
    "\n",
    "<Conversation History>\n",
    "{formatted_history}\n",
    "User: {user_question}\n",
    "Assistant:\n",
    "</Conversation History>\n",
    "\n",
    "A user just asked this question:\n",
    "\"{user_question}\"\n",
    "\n",
    "Below are previous Q/A threads from other users. Use them as context to answer the question clearly and step-by-step.\n",
    "\n",
    "Relevant Threads:\n",
    "{retrieved_context}\n",
    "\n",
    "<Reiteration>\n",
    "You are a friendly, professional dropshipper who wants to grow the community through free, helpful, and clear advice. Be excited to help, break things down step-by-step, and always aim to get the user closer to taking action. \n",
    "Only return the <response> without the tags.\n",
    "</Reiteration>\n",
    "\"\"\"\n",
    "\n",
    "response = llm.invoke(rag_prompt)\n",
    "print(response.content)\n",
    "\n",
    "conversation_history.append({\n",
    "    \"question\": user_question,\n",
    "    \"answer\": response.content.strip()\n",
    "})"
   ]
  },
  {
   "cell_type": "code",
   "execution_count": 161,
   "metadata": {},
   "outputs": [
    {
     "data": {
      "text/plain": [
       "\"Q: How long should I test a product before cutting it?\\nHow long should I test a product before cutting it?\\nLook for something visually catchy or surprising.\\nI tried a product that solves a daily problem — that worked well.\\nWould a phone stand work?\\nYes, if you market it correctly.\\n\\n---\\n\\nQ: How do I choose a good product for Tiktok ads?\\nHow do I choose a good product for Tiktok ads?\\nLook for something visually catchy or surprising.\\n\\n---\\n\\nQ: I'm looking for help signing up for Shopify, I'm lost.\\nWhat part are you lost on?\\nI'm looking for help signing up for Shopify, I'm lost.\\nAt least 3-5 days, depending on your CPMs.\""
      ]
     },
     "execution_count": 161,
     "metadata": {},
     "output_type": "execute_result"
    }
   ],
   "source": [
    "retrieved_context"
   ]
  }
 ],
 "metadata": {
  "kernelspec": {
   "display_name": "gsb570env",
   "language": "python",
   "name": "python3"
  },
  "language_info": {
   "codemirror_mode": {
    "name": "ipython",
    "version": 3
   },
   "file_extension": ".py",
   "mimetype": "text/x-python",
   "name": "python",
   "nbconvert_exporter": "python",
   "pygments_lexer": "ipython3",
   "version": "3.10.1"
  }
 },
 "nbformat": 4,
 "nbformat_minor": 2
}
